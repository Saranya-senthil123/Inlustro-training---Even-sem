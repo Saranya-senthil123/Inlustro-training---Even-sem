{
  "nbformat": 4,
  "nbformat_minor": 0,
  "metadata": {
    "colab": {
      "provenance": []
    },
    "kernelspec": {
      "name": "python3",
      "display_name": "Python 3"
    },
    "language_info": {
      "name": "python"
    }
  },
  "cells": [
    {
      "cell_type": "code",
      "execution_count": 4,
      "metadata": {
        "colab": {
          "base_uri": "https://localhost:8080/"
        },
        "id": "iT3p5_Cscaq1",
        "outputId": "312b65cf-6b15-4337-f268-579e71a063ee"
      },
      "outputs": [
        {
          "output_type": "stream",
          "name": "stdout",
          "text": [
            "Saranya\n"
          ]
        }
      ],
      "source": [
        "name=\"Saranya\"\n",
        "print(name)"
      ]
    },
    {
      "cell_type": "code",
      "source": [
        "a=5\n",
        "b=10\n",
        "print(a+b)"
      ],
      "metadata": {
        "colab": {
          "base_uri": "https://localhost:8080/"
        },
        "id": "QTAszTsjeDYr",
        "outputId": "1acb44e3-f18f-46b7-e44e-51eb9211e6b6"
      },
      "execution_count": 5,
      "outputs": [
        {
          "output_type": "stream",
          "name": "stdout",
          "text": [
            "15\n"
          ]
        }
      ]
    },
    {
      "cell_type": "code",
      "source": [
        "price=99.99\n",
        "print(price)"
      ],
      "metadata": {
        "colab": {
          "base_uri": "https://localhost:8080/"
        },
        "id": "QKCjnpUlejtB",
        "outputId": "251cd577-4973-4e3d-856d-635279eedd96"
      },
      "execution_count": 6,
      "outputs": [
        {
          "output_type": "stream",
          "name": "stdout",
          "text": [
            "99.99\n"
          ]
        }
      ]
    },
    {
      "cell_type": "code",
      "source": [
        "is_valid=True\n",
        "print(is_valid)"
      ],
      "metadata": {
        "colab": {
          "base_uri": "https://localhost:8080/"
        },
        "id": "wQtC-GnBeus5",
        "outputId": "b3a20ee6-8850-4d7e-f9e2-8489771906ca"
      },
      "execution_count": 7,
      "outputs": [
        {
          "output_type": "stream",
          "name": "stdout",
          "text": [
            "True\n"
          ]
        }
      ]
    },
    {
      "cell_type": "code",
      "source": [
        "x,y,z=10,20,30\n",
        "print(x,y,z)"
      ],
      "metadata": {
        "colab": {
          "base_uri": "https://localhost:8080/"
        },
        "id": "_3y25bD7e20g",
        "outputId": "4c66f873-a911-467b-ef85-650950559573"
      },
      "execution_count": 8,
      "outputs": [
        {
          "output_type": "stream",
          "name": "stdout",
          "text": [
            "10 20 30\n"
          ]
        }
      ]
    },
    {
      "cell_type": "code",
      "source": [
        "p=q=r=100\n",
        "print(p,q,r)"
      ],
      "metadata": {
        "colab": {
          "base_uri": "https://localhost:8080/"
        },
        "id": "KohKAOkvgEsg",
        "outputId": "ada7fd07-4286-4d8c-ffdf-24eb9b8a069f"
      },
      "execution_count": 9,
      "outputs": [
        {
          "output_type": "stream",
          "name": "stdout",
          "text": [
            "100 100 100\n"
          ]
        }
      ]
    },
    {
      "cell_type": "code",
      "source": [
        "age=25\n",
        "print(age)\n",
        "age=30\n",
        "print(age)"
      ],
      "metadata": {
        "colab": {
          "base_uri": "https://localhost:8080/"
        },
        "id": "l-BwOQO6gOQg",
        "outputId": "6925f00a-a714-4606-b5c5-c4575c48ea73"
      },
      "execution_count": 10,
      "outputs": [
        {
          "output_type": "stream",
          "name": "stdout",
          "text": [
            "25\n",
            "30\n"
          ]
        }
      ]
    },
    {
      "cell_type": "code",
      "source": [
        "value=50\n",
        "del value\n",
        "#print(value)#This will cause an error since value is deleted"
      ],
      "metadata": {
        "id": "c3U0b6-igXOQ"
      },
      "execution_count": 13,
      "outputs": []
    },
    {
      "cell_type": "code",
      "source": [
        "message=\"Hello,World!\"\n",
        "print(len(message))"
      ],
      "metadata": {
        "colab": {
          "base_uri": "https://localhost:8080/"
        },
        "id": "8mVlmShlg3OI",
        "outputId": "a432123e-403d-43da-e48c-f624235fd513"
      },
      "execution_count": 14,
      "outputs": [
        {
          "output_type": "stream",
          "name": "stdout",
          "text": [
            "12\n"
          ]
        }
      ]
    },
    {
      "cell_type": "code",
      "source": [
        "data=42\n",
        "print(data)\n",
        "data=str(data)\n",
        "print(data)"
      ],
      "metadata": {
        "colab": {
          "base_uri": "https://localhost:8080/"
        },
        "id": "W49mARn5hBN3",
        "outputId": "09e50ef6-b1e8-410f-c8c6-c6b9cde07e67"
      },
      "execution_count": 15,
      "outputs": [
        {
          "output_type": "stream",
          "name": "stdout",
          "text": [
            "42\n",
            "42\n"
          ]
        }
      ]
    },
    {
      "cell_type": "markdown",
      "source": [
        "IF Condition"
      ],
      "metadata": {
        "id": "wsrTrh6KhWXY"
      }
    },
    {
      "cell_type": "code",
      "source": [
        "num=5\n",
        "if num>0:\n",
        "  print(\"Positive Number\")"
      ],
      "metadata": {
        "colab": {
          "base_uri": "https://localhost:8080/"
        },
        "id": "mJEDqYTGhdKn",
        "outputId": "8eacbf21-a692-4675-86ee-b372035384fe"
      },
      "execution_count": 16,
      "outputs": [
        {
          "output_type": "stream",
          "name": "stdout",
          "text": [
            "Positive Number\n"
          ]
        }
      ]
    },
    {
      "cell_type": "code",
      "source": [
        "age=20\n",
        "if age>=18:\n",
        "  print(\"You are eligible to vote\")\n",
        "else:\n",
        "  print(\"You are not eligible to vote\")"
      ],
      "metadata": {
        "colab": {
          "base_uri": "https://localhost:8080/"
        },
        "id": "jjOk0JO8hdPQ",
        "outputId": "59aaacd1-f5d5-4c3b-dd75-ae676b9cfe8a"
      },
      "execution_count": 17,
      "outputs": [
        {
          "output_type": "stream",
          "name": "stdout",
          "text": [
            "You are eligible to vote\n"
          ]
        }
      ]
    },
    {
      "cell_type": "code",
      "source": [
        "num=-3\n",
        "if num>0:\n",
        "  print(\"Positive Number\")\n",
        "elif num<0:\n",
        "  print(\"Negative Number\")\n",
        "else:\n",
        "  print(\"Zero\")"
      ],
      "metadata": {
        "colab": {
          "base_uri": "https://localhost:8080/"
        },
        "id": "8iCA4_dehdUf",
        "outputId": "e79d9438-34fa-4101-c9e5-37accbcbeae7"
      },
      "execution_count": 18,
      "outputs": [
        {
          "output_type": "stream",
          "name": "stdout",
          "text": [
            "Negative Number\n"
          ]
        }
      ]
    },
    {
      "cell_type": "code",
      "source": [
        "num=7\n",
        "if num%2==0:\n",
        "  print(\"Even Number\")\n",
        "else:\n",
        "  print(\"Odd Number\")"
      ],
      "metadata": {
        "colab": {
          "base_uri": "https://localhost:8080/"
        },
        "id": "URtqkZJ1kYBd",
        "outputId": "0afb0644-743e-4513-a14a-539b59ebe43b"
      },
      "execution_count": 19,
      "outputs": [
        {
          "output_type": "stream",
          "name": "stdout",
          "text": [
            "Odd Number\n"
          ]
        }
      ]
    },
    {
      "cell_type": "code",
      "source": [
        "num=8\n",
        "if num>0:\n",
        "  if num%2==0:\n",
        "    print(\"Positive and Even\")\n",
        "  else:\n",
        "    print(\"Positive and Odd\")"
      ],
      "metadata": {
        "colab": {
          "base_uri": "https://localhost:8080/"
        },
        "id": "mp_vV8GhkmWm",
        "outputId": "a4984d42-a01d-40a0-8568-fb44f4a7feec"
      },
      "execution_count": 21,
      "outputs": [
        {
          "output_type": "stream",
          "name": "stdout",
          "text": [
            "Positive and Even\n"
          ]
        }
      ]
    },
    {
      "cell_type": "code",
      "source": [
        "x=10\n",
        "if x==10:\n",
        "  print(\"Python is cool\")"
      ],
      "metadata": {
        "colab": {
          "base_uri": "https://localhost:8080/"
        },
        "id": "XKtPkIxglJmV",
        "outputId": "1ebed7a4-df89-498f-f6a4-2e54ec3d43f2"
      },
      "execution_count": 22,
      "outputs": [
        {
          "output_type": "stream",
          "name": "stdout",
          "text": [
            "Python is cool\n"
          ]
        }
      ]
    },
    {
      "cell_type": "code",
      "source": [
        "num=12\n",
        "print(\"Even\" if num%2==0 else \"Odd\")"
      ],
      "metadata": {
        "colab": {
          "base_uri": "https://localhost:8080/"
        },
        "id": "kQ4yMUxnlm-1",
        "outputId": "a97657c7-50dd-4b44-b3a0-75070362336f"
      },
      "execution_count": 23,
      "outputs": [
        {
          "output_type": "stream",
          "name": "stdout",
          "text": [
            "Even\n"
          ]
        }
      ]
    },
    {
      "cell_type": "code",
      "source": [
        "text=\"I Love Python Programming\"\n",
        "if \"Python\" in text:\n",
        "  print(\"String contains 'Python\")"
      ],
      "metadata": {
        "colab": {
          "base_uri": "https://localhost:8080/"
        },
        "id": "9sT-sTgVl3R1",
        "outputId": "c2503dc3-02c3-439a-a302-5edb4f6ce8cd"
      },
      "execution_count": 24,
      "outputs": [
        {
          "output_type": "stream",
          "name": "stdout",
          "text": [
            "String contains 'Python\n"
          ]
        }
      ]
    },
    {
      "cell_type": "code",
      "source": [
        "num=15\n",
        "if num%3==0 and num%5==0:\n",
        "  print(\"Divisible by 3 and 5\")\n",
        "else:\n",
        "    print(\"Not divisible by both 3 and 5\")"
      ],
      "metadata": {
        "colab": {
          "base_uri": "https://localhost:8080/"
        },
        "id": "-zTtgX1VmSGN",
        "outputId": "31f18f64-d20c-4798-8071-3ce2f981ad0d"
      },
      "execution_count": 26,
      "outputs": [
        {
          "output_type": "stream",
          "name": "stdout",
          "text": [
            "Divisible by 3 and 5\n"
          ]
        }
      ]
    },
    {
      "cell_type": "code",
      "source": [
        "year=2024\n",
        "if (year%4==0 and year%100!=0):\n",
        "      print(\"Leap Year\")\n",
        "else:\n",
        "      print(\"Not a Leap Year\")"
      ],
      "metadata": {
        "colab": {
          "base_uri": "https://localhost:8080/"
        },
        "id": "C2BX7rGRmspD",
        "outputId": "ada3b14c-9efc-45d2-da34-c5d86ebe5639"
      },
      "execution_count": 28,
      "outputs": [
        {
          "output_type": "stream",
          "name": "stdout",
          "text": [
            "Leap Year\n"
          ]
        }
      ]
    }
  ]
}